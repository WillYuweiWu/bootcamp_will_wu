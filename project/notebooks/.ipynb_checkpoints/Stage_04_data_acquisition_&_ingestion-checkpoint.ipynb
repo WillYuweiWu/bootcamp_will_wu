{
 "cells": [
  {
   "cell_type": "markdown",
   "id": "987d65ff-d916-46bb-b8b9-60a2f45ffe92",
   "metadata": {},
   "source": [
    "# Stage 04 - Data Acquisition and Ingestion"
   ]
  },
  {
   "cell_type": "code",
   "execution_count": 5,
   "id": "56cc4153-96f4-4873-af33-2617d32e3e23",
   "metadata": {},
   "outputs": [
    {
     "name": "stdout",
     "output_type": "stream",
     "text": [
      "ALPHAVANTAGE_API_KEY loaded? True\n"
     ]
    }
   ],
   "source": [
    "import os, pathlib, datetime as dt\n",
    "import requests\n",
    "import pandas as pd\n",
    "from bs4 import BeautifulSoup\n",
    "from dotenv import load_dotenv\n",
    "\n",
    "load_dotenv(); print('ALPHAVANTAGE_API_KEY loaded?', bool(os.getenv('ALPHAVANTAGE_API_KEY')))"
   ]
  },
  {
   "cell_type": "code",
   "execution_count": 6,
   "id": "6a141018-65b8-4a1a-b46c-4f2db5601ddf",
   "metadata": {},
   "outputs": [],
   "source": [
    "import yfinance as yf\n",
    "import pandas as pd"
   ]
  },
  {
   "cell_type": "code",
   "execution_count": 11,
   "id": "c9664329-d45c-4e9d-a5b3-2d09cb2ec696",
   "metadata": {},
   "outputs": [
    {
     "name": "stderr",
     "output_type": "stream",
     "text": [
      "/var/folders/6w/t2sqjkx12cg3m5nlk8pwxlxm0000gn/T/ipykernel_11707/2648788888.py:2: FutureWarning: YF.download() has changed argument auto_adjust default to True\n",
      "  vix = yf.download(\"^VIX\", period=\"6y\", interval=\"1d\").reset_index()\n",
      "[*********************100%***********************]  1 of 1 completed\n",
      "/var/folders/6w/t2sqjkx12cg3m5nlk8pwxlxm0000gn/T/ipykernel_11707/2648788888.py:3: FutureWarning: YF.download() has changed argument auto_adjust default to True\n",
      "  sp500 = yf.download(\"^GSPC\", period=\"6y\", interval=\"1d\").reset_index()\n",
      "[*********************100%***********************]  1 of 1 completed\n"
     ]
    }
   ],
   "source": [
    "# Download data\n",
    "vix = yf.download(\"^VIX\", period=\"6y\", interval=\"1d\").reset_index()\n",
    "sp500 = yf.download(\"^GSPC\", period=\"6y\", interval=\"1d\").reset_index()"
   ]
  },
  {
   "cell_type": "code",
   "execution_count": 12,
   "id": "d8eefc6e-172e-4679-bc1a-ea34fa7447a7",
   "metadata": {},
   "outputs": [],
   "source": [
    "# Rename columns\n",
    "vix = vix.rename(columns={\n",
    "    \"Date\": \"date\",\n",
    "    \"Open\": \"vix_open\",\n",
    "    \"High\": \"vix_high\",\n",
    "    \"Low\": \"vix_low\",\n",
    "    \"Close\": \"vix_close\",\n",
    "    \"Adj Close\": \"vix_adj_close\",\n",
    "    \"Volume\": \"vix_volume\"\n",
    "})\n",
    "\n",
    "sp500 = sp500.rename(columns={\n",
    "    \"Date\": \"date\",\n",
    "    \"Open\": \"sp500_open\",\n",
    "    \"High\": \"sp500_high\",\n",
    "    \"Low\": \"sp500_low\",\n",
    "    \"Close\": \"sp500_close\",\n",
    "    \"Adj Close\": \"sp500_adj_close\",\n",
    "    \"Volume\": \"sp500_volume\"\n",
    "})"
   ]
  },
  {
   "cell_type": "code",
   "execution_count": 13,
   "id": "05675e83-9d4e-428c-8f3e-1e1a96bd9e02",
   "metadata": {},
   "outputs": [],
   "source": [
    "# Merge and save\n",
    "merged = pd.merge(vix, sp500, on=\"date\", how=\"inner\")\n",
    "merged.to_csv(\"../data/raw/VIX_S&P500_raw.csv\", index=False)"
   ]
  },
  {
   "cell_type": "code",
   "execution_count": null,
   "id": "2ee4ffb1-bfbc-4977-afcd-26b3ce70626b",
   "metadata": {},
   "outputs": [],
   "source": []
  }
 ],
 "metadata": {
  "kernelspec": {
   "display_name": "Python 3 (ipykernel)",
   "language": "python",
   "name": "python3"
  },
  "language_info": {
   "codemirror_mode": {
    "name": "ipython",
    "version": 3
   },
   "file_extension": ".py",
   "mimetype": "text/x-python",
   "name": "python",
   "nbconvert_exporter": "python",
   "pygments_lexer": "ipython3",
   "version": "3.10.9"
  }
 },
 "nbformat": 4,
 "nbformat_minor": 5
}
