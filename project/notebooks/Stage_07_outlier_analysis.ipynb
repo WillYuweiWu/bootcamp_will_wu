{
 "cells": [
  {
   "cell_type": "markdown",
   "id": "83c7e328-cb92-4f8e-8f98-a2d0329d0a20",
   "metadata": {},
   "source": [
    "# Stage 07 - Outlier Analysis"
   ]
  },
  {
   "cell_type": "code",
   "execution_count": 1,
   "id": "41d699ea-c47d-44b6-abad-fd2b9c8f3cf3",
   "metadata": {},
   "outputs": [
    {
     "data": {
      "text/html": [
       "<div>\n",
       "<style scoped>\n",
       "    .dataframe tbody tr th:only-of-type {\n",
       "        vertical-align: middle;\n",
       "    }\n",
       "\n",
       "    .dataframe tbody tr th {\n",
       "        vertical-align: top;\n",
       "    }\n",
       "\n",
       "    .dataframe thead th {\n",
       "        text-align: right;\n",
       "    }\n",
       "</style>\n",
       "<table border=\"1\" class=\"dataframe\">\n",
       "  <thead>\n",
       "    <tr style=\"text-align: right;\">\n",
       "      <th></th>\n",
       "      <th>date</th>\n",
       "      <th>vix_close</th>\n",
       "      <th>vix_high</th>\n",
       "      <th>vix_low</th>\n",
       "      <th>vix_open</th>\n",
       "      <th>sp500_close</th>\n",
       "      <th>sp500_high</th>\n",
       "      <th>sp500_low</th>\n",
       "      <th>sp500_open</th>\n",
       "      <th>sp500_volume</th>\n",
       "    </tr>\n",
       "  </thead>\n",
       "  <tbody>\n",
       "    <tr>\n",
       "      <th>0</th>\n",
       "      <td>2019-08-28</td>\n",
       "      <td>19.350000</td>\n",
       "      <td>21.639999</td>\n",
       "      <td>19.10</td>\n",
       "      <td>20.549999</td>\n",
       "      <td>2887.939941</td>\n",
       "      <td>2890.030029</td>\n",
       "      <td>2853.050049</td>\n",
       "      <td>2861.280029</td>\n",
       "      <td>3102480000</td>\n",
       "    </tr>\n",
       "    <tr>\n",
       "      <th>1</th>\n",
       "      <td>2019-08-29</td>\n",
       "      <td>17.879999</td>\n",
       "      <td>19.200001</td>\n",
       "      <td>17.60</td>\n",
       "      <td>19.020000</td>\n",
       "      <td>2924.580078</td>\n",
       "      <td>2930.500000</td>\n",
       "      <td>2905.669922</td>\n",
       "      <td>2910.370117</td>\n",
       "      <td>3177150000</td>\n",
       "    </tr>\n",
       "    <tr>\n",
       "      <th>2</th>\n",
       "      <td>2019-08-30</td>\n",
       "      <td>18.980000</td>\n",
       "      <td>19.180000</td>\n",
       "      <td>17.09</td>\n",
       "      <td>17.940001</td>\n",
       "      <td>2926.459961</td>\n",
       "      <td>2940.429932</td>\n",
       "      <td>2913.320068</td>\n",
       "      <td>2937.090088</td>\n",
       "      <td>3009910000</td>\n",
       "    </tr>\n",
       "    <tr>\n",
       "      <th>3</th>\n",
       "      <td>2019-09-03</td>\n",
       "      <td>19.660000</td>\n",
       "      <td>21.150000</td>\n",
       "      <td>19.41</td>\n",
       "      <td>20.959999</td>\n",
       "      <td>2906.270020</td>\n",
       "      <td>2914.389893</td>\n",
       "      <td>2891.850098</td>\n",
       "      <td>2909.010010</td>\n",
       "      <td>3427830000</td>\n",
       "    </tr>\n",
       "    <tr>\n",
       "      <th>4</th>\n",
       "      <td>2019-09-04</td>\n",
       "      <td>17.330000</td>\n",
       "      <td>18.830000</td>\n",
       "      <td>17.26</td>\n",
       "      <td>18.230000</td>\n",
       "      <td>2937.780029</td>\n",
       "      <td>2938.840088</td>\n",
       "      <td>2921.860107</td>\n",
       "      <td>2924.669922</td>\n",
       "      <td>3167900000</td>\n",
       "    </tr>\n",
       "  </tbody>\n",
       "</table>\n",
       "</div>"
      ],
      "text/plain": [
       "         date  vix_close   vix_high  vix_low   vix_open  sp500_close  \\\n",
       "0  2019-08-28  19.350000  21.639999    19.10  20.549999  2887.939941   \n",
       "1  2019-08-29  17.879999  19.200001    17.60  19.020000  2924.580078   \n",
       "2  2019-08-30  18.980000  19.180000    17.09  17.940001  2926.459961   \n",
       "3  2019-09-03  19.660000  21.150000    19.41  20.959999  2906.270020   \n",
       "4  2019-09-04  17.330000  18.830000    17.26  18.230000  2937.780029   \n",
       "\n",
       "    sp500_high    sp500_low   sp500_open  sp500_volume  \n",
       "0  2890.030029  2853.050049  2861.280029    3102480000  \n",
       "1  2930.500000  2905.669922  2910.370117    3177150000  \n",
       "2  2940.429932  2913.320068  2937.090088    3009910000  \n",
       "3  2914.389893  2891.850098  2909.010010    3427830000  \n",
       "4  2938.840088  2921.860107  2924.669922    3167900000  "
      ]
     },
     "execution_count": 1,
     "metadata": {},
     "output_type": "execute_result"
    }
   ],
   "source": [
    "import os\n",
    "import numpy as np\n",
    "import pandas as pd\n",
    "import matplotlib.pyplot as plt\n",
    "from pathlib import Path\n",
    "from sklearn.linear_model import LinearRegression\n",
    "from sklearn.metrics import mean_absolute_error, r2_score\n",
    "\n",
    "df = pd.read_csv('../data/processed/VIX_S&P500_clean.csv')\n",
    "df.head()"
   ]
  },
  {
   "cell_type": "code",
   "execution_count": 7,
   "id": "e79b130f-2b09-47c0-a92b-e01ba6c27a99",
   "metadata": {},
   "outputs": [],
   "source": [
    "import sys\n",
    "sys.path.append(os.path.abspath('..'))\n",
    "from src import outliers"
   ]
  },
  {
   "cell_type": "code",
   "execution_count": 8,
   "id": "77bba9df-7037-4f82-8cdf-c560e232fc3f",
   "metadata": {},
   "outputs": [],
   "source": [
    "def detect_outliers_iqr(series: pd.Series, k: float = 1.5) -> pd.Series:\n",
    "    q1 = series.quantile(0.25)\n",
    "    q3 = series.quantile(0.75)\n",
    "    iqr = q3 - q1\n",
    "    lower = q1 - k * iqr\n",
    "    upper = q3 + k * iqr\n",
    "    return (series < lower) | (series > upper)\n",
    "\n",
    "def detect_outliers_zscore(series: pd.Series, threshold: float = 3.0) -> pd.Series:\n",
    "    mu = series.mean()\n",
    "    sigma = series.std(ddof = 0)\n",
    "    z = (series - mu) / (sigma if sigma != 0 else 1.0)\n",
    "    return z.abs() > threshold\n",
    "\n",
    "def winsorize_series(series: pd.Series, lower: float = 0.05, upper: float = 0.95) -> pd.Series:\n",
    "    lo = series.quantile(lower)\n",
    "    hi = series.quantile(upper)\n",
    "    return series.clip(lower = lo, upper = hi)"
   ]
  },
  {
   "cell_type": "code",
   "execution_count": 10,
   "id": "ca34b444-97bc-428a-ba84-0a477315b12b",
   "metadata": {},
   "outputs": [
    {
     "data": {
      "text/plain": [
       "outlier_iqr    0.062997\n",
       "outlier_z      0.023873\n",
       "dtype: float64"
      ]
     },
     "execution_count": 10,
     "metadata": {},
     "output_type": "execute_result"
    }
   ],
   "source": [
    "# Detect outliers and create flags\n",
    "\n",
    "target_col = 'sp500_volume'\n",
    "df['outlier_iqr'] = detect_outliers_iqr(df[target_col])\n",
    "df['outlier_z'] = detect_outliers_zscore(df[target_col], threshold = 3.0)\n",
    "df[['outlier_iqr', 'outlier_z']].mean()"
   ]
  },
  {
   "cell_type": "code",
   "execution_count": 11,
   "id": "0d4ee5f0-3d3b-403d-9675-0788d392ec43",
   "metadata": {},
   "outputs": [
    {
     "data": {
      "image/png": "[encoded data removed]",
      "text/plain": [
       "<Figure size 640x480 with 1 Axes>"
      ]
     },
     "metadata": {},
     "output_type": "display_data"
    }
   ],
   "source": [
    "# Visual check - Boxplot\n",
    "\n",
    "plt.figure()\n",
    "plt.boxplot(df[target_col])\n",
    "plt.title(f'Boxplot: {target_col}')\n",
    "plt.show()"
   ]
  },
  {
   "cell_type": "code",
   "execution_count": 14,
   "id": "141151cb-02da-4aeb-9bdb-4f6b07a4e960",
   "metadata": {},
   "outputs": [
    {
     "data": {
      "image/png": "[encoded data removed]",
      "text/plain": [
       "<Figure size 640x480 with 1 Axes>"
      ]
     },
     "metadata": {},
     "output_type": "display_data"
    }
   ],
   "source": [
    "# Visual check - Histogram\n",
    "\n",
    "plt.figure()\n",
    "plt.hist(df[target_col], bins = 50)\n",
    "plt.title(f'Histogram: {target_col}')\n",
    "plt.show()"
   ]
  },
  {
   "cell_type": "markdown",
   "id": "f246552c-f037-44a7-b676-dad7c740d29d",
   "metadata": {},
   "source": [
    "The explanation of outlier assumptions and potential risks to results is added to `README.md` under Stage 07. "
   ]
  },
  {
   "cell_type": "code",
   "execution_count": null,
   "id": "1e17d9ad-4bd4-4db3-8463-ed8b3c70f429",
   "metadata": {},
   "outputs": [],
   "source": []
  }
 ],
 "metadata": {
  "kernelspec": {
   "display_name": "Python 3 (ipykernel)",
   "language": "python",
   "name": "python3"
  },
  "language_info": {
   "codemirror_mode": {
    "name": "ipython",
    "version": 3
   },
   "file_extension": ".py",
   "mimetype": "text/x-python",
   "name": "python",
   "nbconvert_exporter": "python",
   "pygments_lexer": "ipython3",
   "version": "3.10.9"
  }
 },
 "nbformat": 4,
 "nbformat_minor": 5
}
