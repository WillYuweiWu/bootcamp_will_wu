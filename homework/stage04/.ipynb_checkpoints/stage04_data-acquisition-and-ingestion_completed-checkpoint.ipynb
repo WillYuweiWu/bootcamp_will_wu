{
 "cells": [
  {
   "cell_type": "markdown",
   "id": "aee8abce",
   "metadata": {},
   "source": [
    "\n",
    "# Stage 04 — Data Acquisition & Ingestion\n",
    "\n",
    "This notebook implements the required tasks:\n",
    "\n",
    "1. **API Pull (required)**\n",
    "2. **Scrape a Small Table (required)**\n",
    "3. **Documentation (required)**\n",
    "\n",
    "> Tip: Create a `.env` file in the project root if you want to supply API keys (e.g., `FMP_API_KEY`). This notebook will try to read it.\n"
   ]
  },
  {
   "cell_type": "code",
   "execution_count": 1,
   "id": "27948dc1",
   "metadata": {},
   "outputs": [],
   "source": [
    "import os\n",
    "from pathlib import Path\n",
    "from datetime import datetime\n",
    "import pandas as pd\n",
    "import requests\n",
    "from bs4 import BeautifulSoup\n",
    "\n",
    "try:\n",
    "    import yfinance as yf\n",
    "    _HAS_YF = True\n",
    "except Exception:\n",
    "    _HAS_YF = False\n",
    "\n",
    "from dotenv import load_dotenv\n",
    "\n",
    "DATA_RAW = Path(\"/Users/willwu/Desktop/NYU Tandon/FRE-GY/5040 Foundations of Applied Financial Engineering/bootcamp_will_wu/homework/stage04/data/raw\").resolve()\n",
    "DATA_RAW.mkdir(parents = True, exist_ok = True)"
   ]
  },
  {
   "cell_type": "code",
   "execution_count": 2,
   "id": "bacd0450",
   "metadata": {},
   "outputs": [
    {
     "name": "stdout",
     "output_type": "stream",
     "text": [
      "FMP_API_KEY set: True\n"
     ]
    }
   ],
   "source": [
    "# Load environment variables\n",
    "\n",
    "load_dotenv(dotenv_path = Path('/Users/willwu/Desktop/NYU Tandon/FRE-GY/5040 Foundations of Applied Financial Engineering/bootcamp_will_wu/homework/stage04/.env'))\n",
    "FMP_API_KEY = os.getenv('FMP_API_KEY', 'demo')\n",
    "print('FMP_API_KEY set:', bool(FMP_API_KEY))"
   ]
  },
  {
   "cell_type": "markdown",
   "id": "ec9458d4",
   "metadata": {},
   "source": [
    "\n",
    "## 1) API Pull (required)\n",
    "\n",
    "- Choose one ticker: we'll use **AAPL**.\n",
    "- Primary: **`requests`** against **Financial Modeling Prep** (FMP) with `apikey` (`demo` works for public sample data).\n",
    "- Fallback: **`yfinance`** if `requests` fails.\n",
    "- Convert to DataFrame; parse **dates** and **floats**.\n",
    "- Validate shape, NAs, and required columns.\n",
    "- Save raw CSV to `../data/raw/api_aapl_prices.csv`.\n"
   ]
  },
  {
   "cell_type": "code",
   "execution_count": 4,
   "id": "f8a383c7",
   "metadata": {},
   "outputs": [
    {
     "name": "stdout",
     "output_type": "stream",
     "text": [
      "requests path failed: HTTPError('401 Client Error: Unauthorized for url: https://financialmodelingprep.com/api/v3/historical-price-full/AAPL?serietype=line&timeseries=200&apikey=1234567890')\n"
     ]
    },
    {
     "ename": "RuntimeError",
     "evalue": "yfinance not installed/available as fallback",
     "output_type": "error",
     "traceback": [
      "\u001b[0;31m---------------------------------------------------------------------------\u001b[0m",
      "\u001b[0;31mHTTPError\u001b[0m                                 Traceback (most recent call last)",
      "Cell \u001b[0;32mIn[4], line 39\u001b[0m\n\u001b[1;32m     38\u001b[0m \u001b[38;5;28;01mtry\u001b[39;00m:\n\u001b[0;32m---> 39\u001b[0m     api_df \u001b[38;5;241m=\u001b[39m \u001b[43mfetch_aapl_via_requests\u001b[49m\u001b[43m(\u001b[49m\u001b[43mlimit\u001b[49m\u001b[43m \u001b[49m\u001b[38;5;241;43m=\u001b[39;49m\u001b[43m \u001b[49m\u001b[38;5;241;43m200\u001b[39;49m\u001b[43m)\u001b[49m\n\u001b[1;32m     40\u001b[0m     source_used \u001b[38;5;241m=\u001b[39m \u001b[38;5;124m\"\u001b[39m\u001b[38;5;124mFMP via requests\u001b[39m\u001b[38;5;124m\"\u001b[39m\n",
      "Cell \u001b[0;32mIn[4], line 5\u001b[0m, in \u001b[0;36mfetch_aapl_via_requests\u001b[0;34m(limit)\u001b[0m\n\u001b[1;32m      4\u001b[0m r \u001b[38;5;241m=\u001b[39m requests\u001b[38;5;241m.\u001b[39mget(url, params \u001b[38;5;241m=\u001b[39m params, timeout \u001b[38;5;241m=\u001b[39m \u001b[38;5;241m30\u001b[39m)\n\u001b[0;32m----> 5\u001b[0m \u001b[43mr\u001b[49m\u001b[38;5;241;43m.\u001b[39;49m\u001b[43mraise_for_status\u001b[49m\u001b[43m(\u001b[49m\u001b[43m)\u001b[49m\n\u001b[1;32m      6\u001b[0m js \u001b[38;5;241m=\u001b[39m r\u001b[38;5;241m.\u001b[39mjson()\n",
      "File \u001b[0;32m~/anaconda3/lib/python3.10/site-packages/requests/models.py:1021\u001b[0m, in \u001b[0;36mResponse.raise_for_status\u001b[0;34m(self)\u001b[0m\n\u001b[1;32m   1020\u001b[0m \u001b[38;5;28;01mif\u001b[39;00m http_error_msg:\n\u001b[0;32m-> 1021\u001b[0m     \u001b[38;5;28;01mraise\u001b[39;00m HTTPError(http_error_msg, response\u001b[38;5;241m=\u001b[39m\u001b[38;5;28mself\u001b[39m)\n",
      "\u001b[0;31mHTTPError\u001b[0m: 401 Client Error: Unauthorized for url: https://financialmodelingprep.com/api/v3/historical-price-full/AAPL?serietype=line&timeseries=200&apikey=1234567890",
      "\nDuring handling of the above exception, another exception occurred:\n",
      "\u001b[0;31mRuntimeError\u001b[0m                              Traceback (most recent call last)",
      "Cell \u001b[0;32mIn[4], line 43\u001b[0m\n\u001b[1;32m     41\u001b[0m \u001b[38;5;28;01mexcept\u001b[39;00m \u001b[38;5;167;01mException\u001b[39;00m \u001b[38;5;28;01mas\u001b[39;00m e:\n\u001b[1;32m     42\u001b[0m     \u001b[38;5;28mprint\u001b[39m(\u001b[38;5;124m\"\u001b[39m\u001b[38;5;124mrequests path failed:\u001b[39m\u001b[38;5;124m\"\u001b[39m, \u001b[38;5;28mrepr\u001b[39m(e))\n\u001b[0;32m---> 43\u001b[0m     api_df \u001b[38;5;241m=\u001b[39m \u001b[43mfetch_aapl_via_yf\u001b[49m\u001b[43m(\u001b[49m\u001b[43mperiod\u001b[49m\u001b[43m \u001b[49m\u001b[38;5;241;43m=\u001b[39;49m\u001b[43m \u001b[49m\u001b[38;5;124;43m\"\u001b[39;49m\u001b[38;5;124;43m6mo\u001b[39;49m\u001b[38;5;124;43m\"\u001b[39;49m\u001b[43m,\u001b[49m\u001b[43m \u001b[49m\u001b[43minterval\u001b[49m\u001b[43m \u001b[49m\u001b[38;5;241;43m=\u001b[39;49m\u001b[43m \u001b[49m\u001b[38;5;124;43m\"\u001b[39;49m\u001b[38;5;124;43m1d\u001b[39;49m\u001b[38;5;124;43m\"\u001b[39;49m\u001b[43m)\u001b[49m\n\u001b[1;32m     44\u001b[0m     source_used \u001b[38;5;241m=\u001b[39m \u001b[38;5;124m\"\u001b[39m\u001b[38;5;124myfinance fallback\u001b[39m\u001b[38;5;124m\"\u001b[39m\n\u001b[1;32m     46\u001b[0m api_df\u001b[38;5;241m.\u001b[39mhead(), source_used, api_df\u001b[38;5;241m.\u001b[39mshape\n",
      "Cell \u001b[0;32mIn[4], line 21\u001b[0m, in \u001b[0;36mfetch_aapl_via_yf\u001b[0;34m(period, interval)\u001b[0m\n\u001b[1;32m     19\u001b[0m \u001b[38;5;28;01mdef\u001b[39;00m \u001b[38;5;21mfetch_aapl_via_yf\u001b[39m(period \u001b[38;5;241m=\u001b[39m \u001b[38;5;124m\"\u001b[39m\u001b[38;5;124m6mo\u001b[39m\u001b[38;5;124m\"\u001b[39m, interval \u001b[38;5;241m=\u001b[39m \u001b[38;5;124m\"\u001b[39m\u001b[38;5;124m1d\u001b[39m\u001b[38;5;124m\"\u001b[39m):\n\u001b[1;32m     20\u001b[0m     \u001b[38;5;28;01mif\u001b[39;00m \u001b[38;5;129;01mnot\u001b[39;00m _HAS_YF:\n\u001b[0;32m---> 21\u001b[0m         \u001b[38;5;28;01mraise\u001b[39;00m \u001b[38;5;167;01mRuntimeError\u001b[39;00m(\u001b[38;5;124m\"\u001b[39m\u001b[38;5;124myfinance not installed/available as fallback\u001b[39m\u001b[38;5;124m\"\u001b[39m)\n\u001b[1;32m     22\u001b[0m     t \u001b[38;5;241m=\u001b[39m yf\u001b[38;5;241m.\u001b[39mTicker(\u001b[38;5;124m\"\u001b[39m\u001b[38;5;124mAAPL\u001b[39m\u001b[38;5;124m\"\u001b[39m)\n\u001b[1;32m     23\u001b[0m     df \u001b[38;5;241m=\u001b[39m t\u001b[38;5;241m.\u001b[39mhistory(period\u001b[38;5;241m=\u001b[39mperiod, interval\u001b[38;5;241m=\u001b[39minterval)\u001b[38;5;241m.\u001b[39mreset_index()\n",
      "\u001b[0;31mRuntimeError\u001b[0m: yfinance not installed/available as fallback"
     ]
    }
   ],
   "source": [
    "def fetch_aapl_via_requests(limit: int = 200):\n",
    "    url = 'https://financialmodelingprep.com/api/v3/historical-price-full/AAPL'\n",
    "    params = {'serietype': 'line', 'timeseries': limit, 'apikey': FMP_API_KEY}\n",
    "    r = requests.get(url, params = params, timeout = 30)\n",
    "    r.raise_for_status()\n",
    "    js = r.json()\n",
    "    if 'historical' not in js:\n",
    "        raise ValueError(\"Unexpected payload: missing 'historical'.\")\n",
    "    df = pd.DataFrame(js['historical'])\n",
    "    keep = [c for c in [\"date\",\"open\",\"high\",\"low\",\"close\",\"adjClose\",\"volume\"] if c in df.columns]\n",
    "    df = df[keep]\n",
    "    df[\"date\"] = pd.to_datetime(df[\"date\"], errors = \"coerce\")\n",
    "    for col in df.columns:\n",
    "        if col != \"date\":\n",
    "            df[col] = pd.to_numeric(df[col], errors = \"coerce\")\n",
    "    df = df.sort_values(\"date\").reset_index(drop = True)\n",
    "    return df\n",
    "\n",
    "def fetch_aapl_via_yf(period = \"6mo\", interval = \"1d\"):\n",
    "    if not _HAS_YF:\n",
    "        raise RuntimeError(\"yfinance not installed/available as fallback\")\n",
    "    t = yf.Ticker(\"AAPL\")\n",
    "    df = t.history(period=period, interval=interval).reset_index()\n",
    "    df = df.rename(columns={\n",
    "        \"Date\":\"date\",\n",
    "        \"Open\":\"open\",\n",
    "        \"High\":\"high\",\n",
    "        \"Low\":\"low\",\n",
    "        \"Close\":\"close\",\n",
    "        \"Volume\":\"volume\",\n",
    "        \"Adj Close\":\"adjClose\"\n",
    "    })\n",
    "    keep = [c for c in [\"date\",\"open\",\"high\",\"low\",\"close\",\"adjClose\",\"volume\"] if c in df.columns]\n",
    "    df = df[keep]\n",
    "    return df\n",
    "\n",
    "# Try primary (requests) then fallback (yfinance)\n",
    "try:\n",
    "    api_df = fetch_aapl_via_requests(limit = 200)\n",
    "    source_used = \"FMP via requests\"\n",
    "except Exception as e:\n",
    "    print(\"requests path failed:\", repr(e))\n",
    "    api_df = fetch_aapl_via_yf(period = \"6mo\", interval = \"1d\")\n",
    "    source_used = \"yfinance fallback\"\n",
    "\n",
    "api_df.head(), source_used, api_df.shape"
   ]
  },
  {
   "cell_type": "code",
   "execution_count": null,
   "id": "55d52650",
   "metadata": {},
   "outputs": [],
   "source": [
    "\n",
    "# Validation for API pull\n",
    "required_cols = [c for c in [\"date\",\"close\"] if c in api_df.columns]\n",
    "assert len(required_cols) >= 2 - (1 if \"close\" not in api_df.columns else 0), \"Missing required 'date' and 'close' fields\"\n",
    "\n",
    "na_counts = api_df.isna().sum().to_dict()\n",
    "shape = api_df.shape\n",
    "print(\"Source:\", source_used)\n",
    "print(\"Shape:\", shape)\n",
    "print(\"NA counts:\", na_counts)\n",
    "\n",
    "# Save raw CSV\n",
    "api_path = DATA_RAW / \"api_aapl_prices.csv\"\n",
    "api_df.to_csv(api_path, index=False)\n",
    "print(f\"Saved: {api_path}\")\n"
   ]
  },
  {
   "cell_type": "markdown",
   "id": "4fd1be76",
   "metadata": {},
   "source": [
    "\n",
    "## 2) Scrape a Small Table (required)\n",
    "\n",
    "We scrape a simple public table from Wikipedia: **List of S&P 500 companies**.\n",
    "\n",
    "- Parse with **BeautifulSoup** and build a DataFrame  \n",
    "- Validate column types (symbol = text; sector = text)  \n",
    "- Save raw CSV to `../data/raw/sp500_constituents.csv`\n"
   ]
  },
  {
   "cell_type": "code",
   "execution_count": null,
   "id": "9274071b",
   "metadata": {},
   "outputs": [],
   "source": [
    "\n",
    "WIKI_URL = \"https://en.wikipedia.org/wiki/List_of_S%26P_500_companies\"\n",
    "\n",
    "resp = requests.get(WIKI_URL, timeout=30)\n",
    "resp.raise_for_status()\n",
    "\n",
    "soup = BeautifulSoup(resp.text, \"html.parser\")\n",
    "table = soup.select_one(\"table.wikitable\")\n",
    "rows = []\n",
    "headers = [th.get_text(strip=True) for th in table.select(\"thead tr th\")]\n",
    "# Fallback if thead not present\n",
    "if not headers:\n",
    "    headers = [th.get_text(strip=True) for th in table.select(\"tr\")[0].select(\"th\")]\n",
    "body_rows = table.select(\"tbody tr\")[1:] if table.select(\"tbody tr\") else table.select(\"tr\")[1:]\n",
    "for tr in body_rows:\n",
    "    cells_ = [td.get_text(strip=True) for td in tr.select(\"td\")]\n",
    "    if len(cells_) >= 5:  # sanity\n",
    "        rows.append(cells_)\n",
    "\n",
    "df_sp = pd.DataFrame(rows, columns=headers[:len(rows[0])])\n",
    "\n",
    "# Keep common columns\n",
    "rename_map = {}\n",
    "for c in df_sp.columns:\n",
    "    if c.lower().startswith(\"symbol\"):\n",
    "        rename_map[c] = \"Symbol\"\n",
    "    if \"Security\" in c:\n",
    "        rename_map[c] = \"Security\"\n",
    "    if \"GICS\" in c and \"Sector\" in c:\n",
    "        rename_map[c] = \"GICS Sector\"\n",
    "df_sp = df_sp.rename(columns=rename_map)\n",
    "\n",
    "keep_cols = [c for c in [\"Symbol\",\"Security\",\"GICS Sector\"] if c in df_sp.columns]\n",
    "df_sp = df_sp[keep_cols].dropna(how=\"any\")\n",
    "df_sp.head(), df_sp.shape\n"
   ]
  },
  {
   "cell_type": "code",
   "execution_count": null,
   "id": "2c6100a2",
   "metadata": {},
   "outputs": [],
   "source": [
    "\n",
    "# Validation: text columns and simple sanity checks\n",
    "assert \"Symbol\" in df_sp.columns, \"Expected 'Symbol' column\"\n",
    "assert df_sp[\"Symbol\"].str.len().between(1,10).all(), \"Unexpected symbol length\"\n",
    "\n",
    "assert df_sp.shape[0] > 100, \"Expected a few hundred S&P records\"\n",
    "\n",
    "# Save\n",
    "sp_path = DATA_RAW / \"sp500_constituents.csv\"\n",
    "df_sp.to_csv(sp_path, index=False)\n",
    "print(f\"Saved: {sp_path}\")\n"
   ]
  },
  {
   "cell_type": "markdown",
   "id": "2cd296a8",
   "metadata": {},
   "source": [
    "\n",
    "## 3) Documentation (required)\n",
    "\n",
    "### Data Sources & URLs\n",
    "- **Prices (AAPL)**: Financial Modeling Prep historical price API  \n",
    "  `https://financialmodelingprep.com/api/v3/historical-price-full/AAPL?serietype=line&timeseries=200&apikey=YOUR_KEY`  \n",
    "  Fallback: **Yahoo Finance** via `yfinance`.- **Constituents**: Wikipedia — *List of S&P 500 companies* (`https://en.wikipedia.org/wiki/List_of_S%26P_500_companies`).\n",
    "\n",
    "### Parameters\n",
    "- API: `timeseries=200` rows, `serietype=line`, `ticker=\"AAPL\"`.\n",
    "- Scrape: first `table.wikitable` on the page; keep `Symbol`, `Security`, `GICS Sector` columns.\n",
    "\n",
    "### Validation Logic\n",
    "- API data: enforce presence of `date` (datetime) and price columns (floats); print **shape** and **NA counts**; ascending sort by date.\n",
    "- Scraped table: ensure `Symbol` exists; drop rows with any NA in key columns; simple length and row-count sanity checks.\n",
    "\n",
    "### Outputs\n",
    "- `../data/raw/api_aapl_prices.csv`\n",
    "- `../data/raw/sp500_constituents.csv`\n"
   ]
  },
  {
   "cell_type": "markdown",
   "id": "d1f1b4a5",
   "metadata": {},
   "source": [
    "\n",
    "### Assumptions & Risks\n",
    "- **API quotas / keys**: Using `FMP_API_KEY` (`demo` works for limited endpoints). Replace with your own key for production.\n",
    "- **Upstream schema drift**: API/HTML may change (column names, table structure). The notebook includes light-weight validation to fail early.\n",
    "- **Data freshness**: Endpoints provide historical data; adjust params for your needs.\n",
    "- **Robustness**: Minimal retries/backoff for brevity. In production, add retries and stronger parsing/validation.\n"
   ]
  },
  {
   "cell_type": "code",
   "execution_count": null,
   "id": "fde84b22",
   "metadata": {},
   "outputs": [],
   "source": [
    "\n",
    "# Confirm `.env` is not accidentally persisted alongside notebooks (best practice is to keep it outside VCS or in secrets manager).\n",
    "# Here we just *print a warning* if .env is inside the repository root next to the notebook.\n",
    "from pathlib import Path\n",
    "env_path = Path(\"../.env\")\n",
    "print(\"`.env` present next to project root?\" , env_path.exists())\n",
    "print(\"Reminder: ensure `.env` is in .gitignore and not committed.\")\n"
   ]
  },
  {
   "cell_type": "code",
   "execution_count": null,
   "id": "765d0064",
   "metadata": {},
   "outputs": [],
   "source": [
    "\n",
    "list(DATA_RAW.glob(\"*.csv\"))\n"
   ]
  }
 ],
 "metadata": {
  "kernelspec": {
   "display_name": "Python 3 (ipykernel)",
   "language": "python",
   "name": "python3"
  },
  "language_info": {
   "codemirror_mode": {
    "name": "ipython",
    "version": 3
   },
   "file_extension": ".py",
   "mimetype": "text/x-python",
   "name": "python",
   "nbconvert_exporter": "python",
   "pygments_lexer": "ipython3",
   "version": "3.10.9"
  }
 },
 "nbformat": 4,
 "nbformat_minor": 5
}
