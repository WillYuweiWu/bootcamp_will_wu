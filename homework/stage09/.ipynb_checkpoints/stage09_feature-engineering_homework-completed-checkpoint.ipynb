{
 "cells": [
  {
   "cell_type": "markdown",
   "id": "00d0cb24",
   "metadata": {},
   "source": [
    "# Stage 09 — Feature Engineering (Completed)\n",
    "\n",
    "**Dataset:** `options_panel_synthetic_2025_Q3_basic_no_oi.csv`\n",
    "\n",
    "This notebook follows the starter template:\n",
    "1. Replace the sample synthetic data with the project dataset.\n",
    "2. Implement at least **two** new features (no Greeks).\n",
    "3. Document each feature with a short rationale.\n",
    "4. (Optional) Explore correlation with a chosen target.\n"
   ]
  },
  {
   "cell_type": "markdown",
   "id": "54a61bad",
   "metadata": {},
   "source": [
    "## 1) Load Project Dataset\n",
    "We use the options panel created previously (basic parameters only)."
   ]
  },
  {
   "cell_type": "code",
   "execution_count": null,
   "id": "b263d0fb",
   "metadata": {},
   "outputs": [],
   "source": [
    "import pandas as pd, numpy as np\n",
    "pd.set_option('display.max_columns', 0)\n",
    "df = pd.read_csv(\"/mnt/data/options_panel_synthetic_2025_Q3_basic_no_oi.csv\")\n",
    "df.head()"
   ]
  },
  {
   "cell_type": "markdown",
   "id": "6617012f",
   "metadata": {},
   "source": [
    "## 2) Feature Engineering (No Greeks)\n",
    "We add **four** simple, finance-relevant features derived only from the basic columns:\n",
    "- **`log_moneyness = ln(S/K)`** — scale-free measure of relative strike; commonly predictive of option prices.\n",
    "- **`tau_years = DTE/365`** — time-to-expiry in years; options decay with time.\n",
    "- **`Intrinsic_Value` & `Extrinsic_Value`** — decomposes price into intrinsic (max(in/out-of-the-money, 0)) and the time-value remainder.\n",
    "- **`Rel_Spread = (Ask - Bid)/Last`** — a simple liquidity/transaction-cost proxy often correlated with pricing noise.\n",
    "- **`ITM` (0/1)** — whether the option is in-the-money.\n",
    "- **`Volume_z`** — z-scored volume within each ticker to normalize cross-date volume swings."
   ]
  },
  {
   "cell_type": "code",
   "execution_count": null,
   "id": "6b8228d6",
   "metadata": {},
   "outputs": [],
   "source": [
    "df[\"log_moneyness\"] = np.log(df[\"Underlying_Price\"] / df[\"Strike\"])\n",
    "df[\"tau_years\"] = df[\"DTE\"] / 365.0\n",
    "df[\"Intrinsic_Value\"] = np.where(\n",
    "    df[\"OptionType\"].str.lower() == \"call\",\n",
    "    np.maximum(df[\"Underlying_Price\"] - df[\"Strike\"], 0.0),\n",
    "    np.maximum(df[\"Strike\"] - df[\"Underlying_Price\"], 0.0),\n",
    ")\n",
    "df[\"Extrinsic_Value\"] = np.maximum(df[\"Last\"] - df[\"Intrinsic_Value\"], 0.0)\n",
    "df[\"Rel_Spread\"] = (df[\"Ask\"] - df[\"Bid\"]) / df[\"Last\"]\n",
    "df[\"Rel_Spread\"] = df[\"Rel_Spread\"].replace([np.inf, -np.inf], np.nan).clip(lower=0.0)\n",
    "df[\"ITM\"] = (\n",
    "    ((df[\"OptionType\"].str.lower() == \"call\") & (df[\"Underlying_Price\"] > df[\"Strike\"])) |\n",
    "    ((df[\"OptionType\"].str.lower() == \"put\") & (df[\"Underlying_Price\"] < df[\"Strike\"]))\n",
    ").astype(int)\n",
    "df[\"Volume_z\"] = df.groupby(\"Ticker\")[\"Volume\"].transform(lambda s: (s - s.mean())/s.std(ddof=0))\n",
    "df.head()"
   ]
  },
  {
   "cell_type": "markdown",
   "id": "b0be83ce",
   "metadata": {},
   "source": [
    "### Short Rationales\n",
    "- **`log_moneyness`**: captures relative distance to strike in a stable, additive way; standard in options literature.\n",
    "- **`tau_years`**: options prices/decay scale with time; years is a natural scale.\n",
    "- **`Intrinsic/Extrinsic`**: separates value driven by moneyness vs. time (and other premiums).\n",
    "- **`Rel_Spread`**: wider spreads imply lower liquidity and potential price inefficiency.\n",
    "- **`ITM`**: structural regime indicator that often changes price behavior.\n",
    "- **`Volume_z`**: normalizes activity within each name so busy days are comparable across the panel."
   ]
  },
  {
   "cell_type": "markdown",
   "id": "7e7bddaa",
   "metadata": {},
   "source": [
    "## 3) Save Feature Set"
   ]
  },
  {
   "cell_type": "code",
   "execution_count": null,
   "id": "82ec8092",
   "metadata": {},
   "outputs": [],
   "source": [
    "out_path = \"/mnt/data/options_panel_synthetic_2025_Q3_basic_features.csv\"\n",
    "df.to_csv(out_path, index=False)\n",
    "out_path"
   ]
  },
  {
   "cell_type": "markdown",
   "id": "b8bee34d",
   "metadata": {},
   "source": [
    "## 4) (Optional) Correlation with Target\n",
    "Treat **`Last`** (option price) as the target and compute simple Pearson correlations."
   ]
  },
  {
   "cell_type": "code",
   "execution_count": null,
   "id": "4e450ac4",
   "metadata": {},
   "outputs": [],
   "source": [
    "num_cols = df.select_dtypes(include=[np.number]).columns.tolist()\n",
    "corr_series = df[num_cols].corr()[\"Last\"].sort_values(ascending=False)\n",
    "corr_series.to_frame(\"corr_with_Last\").head(12)"
   ]
  },
  {
   "cell_type": "markdown",
   "id": "d02df164",
   "metadata": {},
   "source": [
    "## 5) (Optional) Quick Plot\n",
    "Scatter of **`Last`** vs **`log_moneyness`** to visualize the relationship."
   ]
  },
  {
   "cell_type": "code",
   "execution_count": null,
   "id": "f3f568e2",
   "metadata": {},
   "outputs": [],
   "source": [
    "import matplotlib.pyplot as plt\n",
    "plt.figure()\n",
    "plt.scatter(df[\"log_moneyness\"], df[\"Last\"], s=6, alpha=0.4)\n",
    "plt.title(\"Option Last vs log-moneyness\")\n",
    "plt.xlabel(\"log_moneyness = ln(S/K)\")\n",
    "plt.ylabel(\"Last\")\n",
    "plt.show()"
   ]
  }
 ],
 "metadata": {},
 "nbformat": 4,
 "nbformat_minor": 5
}
