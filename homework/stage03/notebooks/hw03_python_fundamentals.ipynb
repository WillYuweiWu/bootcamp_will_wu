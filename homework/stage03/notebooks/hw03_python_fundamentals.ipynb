{
 "cells": [
  {
   "cell_type": "markdown",
   "id": "5fbcf410-3f67-421e-9337-4d64837db3d5",
   "metadata": {},
   "source": [
    "# Stage 03 Python Fundamentals"
   ]
  },
  {
   "cell_type": "code",
   "execution_count": 1,
   "id": "24d22e59-505b-4432-a893-827e72d03bba",
   "metadata": {},
   "outputs": [],
   "source": [
    "import numpy as np\n",
    "import pandas as pd\n",
    "import matplotlib.pyplot as plt\n",
    "from datetime import datetime"
   ]
  },
  {
   "cell_type": "markdown",
   "id": "76399841-122f-4e7f-aa11-2ae02fdb6c81",
   "metadata": {},
   "source": [
    "## 1. NumPy Operations"
   ]
  },
  {
   "cell_type": "code",
   "execution_count": 2,
   "id": "1a01b2dc-11e9-4ead-9859-210918364162",
   "metadata": {},
   "outputs": [
    {
     "name": "stdout",
     "output_type": "stream",
     "text": [
      "[ 1  2  3  4  5  6  7  8  9 10]\n",
      "[ 3  4  5  6  7  8  9 10 11 12]\n",
      "[ 2  4  6  8 10 12 14 16 18 20]\n"
     ]
    }
   ],
   "source": [
    "# Create an array and perform element-wise operations\n",
    "\n",
    "lst_1 = np.arange(1,11)\n",
    "print(lst_1)\n",
    "print(lst_1 + 2)\n",
    "print(lst_1 * 2)"
   ]
  },
  {
   "cell_type": "code",
   "execution_count": 3,
   "id": "65c492ef-e423-475c-b6af-490ef191ff35",
   "metadata": {},
   "outputs": [
    {
     "name": "stdout",
     "output_type": "stream",
     "text": [
      "5.3 ms ± 69.8 µs per loop (mean ± std. dev. of 7 runs, 100 loops each)\n",
      "30.9 µs ± 70.1 ns per loop (mean ± std. dev. of 7 runs, 10,000 loops each)\n"
     ]
    }
   ],
   "source": [
    "# Vectorization v.s. Loops\n",
    "\n",
    "big_array = np.arange(100000)\n",
    "%timeit [x * 2 for x in big_array]\n",
    "%timeit big_array * 2"
   ]
  },
  {
   "cell_type": "markdown",
   "id": "1c2534db-1d27-4bcd-8816-cf3ef1b98976",
   "metadata": {},
   "source": [
    "## 2. Dataset Loading"
   ]
  },
  {
   "cell_type": "code",
   "execution_count": 4,
   "id": "8c01329b-4d90-446d-806f-44ef7183bcd4",
   "metadata": {},
   "outputs": [
    {
     "name": "stdout",
     "output_type": "stream",
     "text": [
      "<class 'pandas.core.frame.DataFrame'>\n",
      "RangeIndex: 10 entries, 0 to 9\n",
      "Data columns (total 3 columns):\n",
      " #   Column    Non-Null Count  Dtype \n",
      "---  ------    --------------  ----- \n",
      " 0   category  10 non-null     object\n",
      " 1   value     10 non-null     int64 \n",
      " 2   date      10 non-null     object\n",
      "dtypes: int64(1), object(2)\n",
      "memory usage: 368.0+ bytes\n"
     ]
    },
    {
     "data": {
      "text/html": [
       "<div>\n",
       "<style scoped>\n",
       "    .dataframe tbody tr th:only-of-type {\n",
       "        vertical-align: middle;\n",
       "    }\n",
       "\n",
       "    .dataframe tbody tr th {\n",
       "        vertical-align: top;\n",
       "    }\n",
       "\n",
       "    .dataframe thead th {\n",
       "        text-align: right;\n",
       "    }\n",
       "</style>\n",
       "<table border=\"1\" class=\"dataframe\">\n",
       "  <thead>\n",
       "    <tr style=\"text-align: right;\">\n",
       "      <th></th>\n",
       "      <th>category</th>\n",
       "      <th>value</th>\n",
       "      <th>date</th>\n",
       "    </tr>\n",
       "  </thead>\n",
       "  <tbody>\n",
       "    <tr>\n",
       "      <th>0</th>\n",
       "      <td>A</td>\n",
       "      <td>10</td>\n",
       "      <td>2025-08-01</td>\n",
       "    </tr>\n",
       "    <tr>\n",
       "      <th>1</th>\n",
       "      <td>B</td>\n",
       "      <td>15</td>\n",
       "      <td>2025-08-02</td>\n",
       "    </tr>\n",
       "    <tr>\n",
       "      <th>2</th>\n",
       "      <td>A</td>\n",
       "      <td>12</td>\n",
       "      <td>2025-08-03</td>\n",
       "    </tr>\n",
       "    <tr>\n",
       "      <th>3</th>\n",
       "      <td>B</td>\n",
       "      <td>18</td>\n",
       "      <td>2025-08-04</td>\n",
       "    </tr>\n",
       "    <tr>\n",
       "      <th>4</th>\n",
       "      <td>C</td>\n",
       "      <td>25</td>\n",
       "      <td>2025-08-05</td>\n",
       "    </tr>\n",
       "  </tbody>\n",
       "</table>\n",
       "</div>"
      ],
      "text/plain": [
       "  category  value        date\n",
       "0        A     10  2025-08-01\n",
       "1        B     15  2025-08-02\n",
       "2        A     12  2025-08-03\n",
       "3        B     18  2025-08-04\n",
       "4        C     25  2025-08-05"
      ]
     },
     "execution_count": 4,
     "metadata": {},
     "output_type": "execute_result"
    }
   ],
   "source": [
    "# Load provided csv file and inspect\n",
    "\n",
    "df = pd.read_csv('/Users/willwu/Desktop/NYU Tandon/FRE-GY/5040 Foundations of Applied Financial Engineering/bootcamp_will_wu/homework/stage03/data/starter_data.csv')\n",
    "df.info()\n",
    "df.head()"
   ]
  },
  {
   "cell_type": "markdown",
   "id": "7b821670-c230-422c-9db5-a1c064a341f7",
   "metadata": {},
   "source": [
    "## 3. Summary Statistics"
   ]
  },
  {
   "cell_type": "code",
   "execution_count": 5,
   "id": "451667c0-ad12-4df6-ac5a-d10d5c387ae4",
   "metadata": {},
   "outputs": [],
   "source": [
    "from pathlib import Path"
   ]
  },
  {
   "cell_type": "code",
   "execution_count": 6,
   "id": "b2c0be65-068d-46ec-b067-f7620340945b",
   "metadata": {},
   "outputs": [],
   "source": [
    "def get_summary_stats(df: pd.DataFrame) -> pd.DataFrame:\n",
    "    num = df.select_dtypes(include = 'number')\n",
    "    desc = num.describe().T\n",
    "    desc['missing'] = num.isna().sum().values\n",
    "    return desc.reset_index().rename(columns = {'index': 'column'})\n",
    "\n",
    "def pick_category_column(df: pd.DataFrame):\n",
    "    preferred = ['category', 'categorical', 'group', 'class', 'segment', 'type', 'species']\n",
    "    cols_lower = {c.lower(): c for c in df.columns}\n",
    "    for p in preferred:\n",
    "        if p in cols_lower:\n",
    "            return cols_lower[p]\n",
    "    non_num = df.select_dtypes(exclude = 'number').columns.tolist()\n",
    "    return non_num[0] if non_num else None"
   ]
  },
  {
   "cell_type": "code",
   "execution_count": 7,
   "id": "af08121c-ba8f-44e8-98a0-38201774e4af",
   "metadata": {},
   "outputs": [
    {
     "data": {
      "text/html": [
       "<div>\n",
       "<style scoped>\n",
       "    .dataframe tbody tr th:only-of-type {\n",
       "        vertical-align: middle;\n",
       "    }\n",
       "\n",
       "    .dataframe tbody tr th {\n",
       "        vertical-align: top;\n",
       "    }\n",
       "\n",
       "    .dataframe thead th {\n",
       "        text-align: right;\n",
       "    }\n",
       "</style>\n",
       "<table border=\"1\" class=\"dataframe\">\n",
       "  <thead>\n",
       "    <tr style=\"text-align: right;\">\n",
       "      <th></th>\n",
       "      <th>column</th>\n",
       "      <th>count</th>\n",
       "      <th>mean</th>\n",
       "      <th>std</th>\n",
       "      <th>min</th>\n",
       "      <th>25%</th>\n",
       "      <th>50%</th>\n",
       "      <th>75%</th>\n",
       "      <th>max</th>\n",
       "      <th>missing</th>\n",
       "    </tr>\n",
       "  </thead>\n",
       "  <tbody>\n",
       "    <tr>\n",
       "      <th>0</th>\n",
       "      <td>value</td>\n",
       "      <td>10.0</td>\n",
       "      <td>17.6</td>\n",
       "      <td>7.381659</td>\n",
       "      <td>10.0</td>\n",
       "      <td>12.25</td>\n",
       "      <td>14.5</td>\n",
       "      <td>23.25</td>\n",
       "      <td>30.0</td>\n",
       "      <td>0</td>\n",
       "    </tr>\n",
       "  </tbody>\n",
       "</table>\n",
       "</div>"
      ],
      "text/plain": [
       "  column  count  mean       std   min    25%   50%    75%   max  missing\n",
       "0  value   10.0  17.6  7.381659  10.0  12.25  14.5  23.25  30.0        0"
      ]
     },
     "execution_count": 7,
     "metadata": {},
     "output_type": "execute_result"
    }
   ],
   "source": [
    "# Summary statistics\n",
    "\n",
    "summary_df = get_summary_stats(df)\n",
    "summary_df"
   ]
  },
  {
   "cell_type": "code",
   "execution_count": 8,
   "id": "3d123898-43c7-4a99-9081-04bc94ebd7c1",
   "metadata": {},
   "outputs": [
    {
     "data": {
      "text/html": [
       "<div>\n",
       "<style scoped>\n",
       "    .dataframe tbody tr th:only-of-type {\n",
       "        vertical-align: middle;\n",
       "    }\n",
       "\n",
       "    .dataframe tbody tr th {\n",
       "        vertical-align: top;\n",
       "    }\n",
       "\n",
       "    .dataframe thead th {\n",
       "        text-align: right;\n",
       "    }\n",
       "</style>\n",
       "<table border=\"1\" class=\"dataframe\">\n",
       "  <thead>\n",
       "    <tr style=\"text-align: right;\">\n",
       "      <th></th>\n",
       "      <th>category</th>\n",
       "      <th>value_count</th>\n",
       "      <th>value_mean</th>\n",
       "      <th>value_median</th>\n",
       "      <th>value_sum</th>\n",
       "    </tr>\n",
       "  </thead>\n",
       "  <tbody>\n",
       "    <tr>\n",
       "      <th>0</th>\n",
       "      <td>A</td>\n",
       "      <td>4</td>\n",
       "      <td>11.500000</td>\n",
       "      <td>11.5</td>\n",
       "      <td>46</td>\n",
       "    </tr>\n",
       "    <tr>\n",
       "      <th>1</th>\n",
       "      <td>B</td>\n",
       "      <td>3</td>\n",
       "      <td>15.666667</td>\n",
       "      <td>15.0</td>\n",
       "      <td>47</td>\n",
       "    </tr>\n",
       "    <tr>\n",
       "      <th>2</th>\n",
       "      <td>C</td>\n",
       "      <td>3</td>\n",
       "      <td>27.666667</td>\n",
       "      <td>28.0</td>\n",
       "      <td>83</td>\n",
       "    </tr>\n",
       "  </tbody>\n",
       "</table>\n",
       "</div>"
      ],
      "text/plain": [
       "  category  value_count  value_mean  value_median  value_sum\n",
       "0        A            4   11.500000          11.5         46\n",
       "1        B            3   15.666667          15.0         47\n",
       "2        C            3   27.666667          28.0         83"
      ]
     },
     "metadata": {},
     "output_type": "display_data"
    }
   ],
   "source": [
    "# Groupby aggregation\n",
    "\n",
    "cat_col = pick_category_column(df)\n",
    "if cat_col:\n",
    "    num_cols = df.select_dtypes(include = 'number').columns\n",
    "    group_summary = (df.groupby(cat_col)[num_cols]\n",
    "                       .agg(['count','mean','median','sum']))\n",
    "    group_summary.columns = ['_'.join(c).strip() for c in group_summary.columns]\n",
    "    group_summary = group_summary.reset_index()\n",
    "    display(group_summary)"
   ]
  },
  {
   "cell_type": "markdown",
   "id": "34101bac-143c-4038-a50c-364ca9d6d55a",
   "metadata": {},
   "source": [
    "## 4. Save Outputs"
   ]
  },
  {
   "cell_type": "code",
   "execution_count": 9,
   "id": "cef2934e-7b05-4764-8ffa-68f0c1e91a51",
   "metadata": {},
   "outputs": [],
   "source": [
    "out_dir = Path('/Users/willwu/Desktop/NYU Tandon/FRE-GY/5040 Foundations of Applied Financial Engineering/bootcamp_will_wu/homework/stage03/data/processed')\n",
    "out_dir.mkdir(parents = True, exist_ok = True)\n",
    "summary_df.to_csv(out_dir / 'summary.csv', index = False)\n",
    "summary_df.to_json(out_dir / 'summary.json', orient = 'records', indent = 2)"
   ]
  },
  {
   "cell_type": "code",
   "execution_count": 10,
   "id": "1f533d6a-a58d-4f4a-9bf3-2c951147eb68",
   "metadata": {},
   "outputs": [],
   "source": [
    "# Create a basic plot"
   ]
  },
  {
   "cell_type": "code",
   "execution_count": 11,
   "id": "a759f353-6781-4c80-9c15-b4eaf48fec99",
   "metadata": {},
   "outputs": [],
   "source": [
    "# pick the first numeric column to visualize\n",
    "\n",
    "num_cols = df.select_dtypes(include = 'number').columns.tolist()\n",
    "if not num_cols:\n",
    "    raise ValueError('No numeric columns to plot.')\n",
    "first_num = num_cols[0]"
   ]
  },
  {
   "cell_type": "code",
   "execution_count": 12,
   "id": "c435641e-c73a-40ad-8159-67f659a34e7d",
   "metadata": {},
   "outputs": [],
   "source": [
    "# Set the out directory\n",
    "out_dir = Path('/Users/willwu/Desktop/NYU Tandon/FRE-GY/5040 Foundations of Applied Financial Engineering/bootcamp_will_wu/homework/stage03/data/processed')\n",
    "out_dir.mkdir(parents = True, exist_ok = True)\n",
    "plot_path = out_dir / 'basic_plot.png'"
   ]
  },
  {
   "cell_type": "code",
   "execution_count": 13,
   "id": "96bcc85e-1832-4261-960b-0bf607832a4e",
   "metadata": {},
   "outputs": [
    {
     "data": {
      "image/png": "[encoded data removed]",
      "text/plain": [
       "<Figure size 640x480 with 1 Axes>"
      ]
     },
     "metadata": {},
     "output_type": "display_data"
    },
    {
     "name": "stdout",
     "output_type": "stream",
     "text": [
      "Saved plot to: /Users/willwu/Desktop/NYU Tandon/FRE-GY/5040 Foundations of Applied Financial Engineering/bootcamp_will_wu/homework/stage03/data/processed/basic_plot.png\n"
     ]
    }
   ],
   "source": [
    "plt.figure()\n",
    "\n",
    "if 'cat_col' in globals() and cat_col and cat_col in df.columns:\n",
    "    means = df.groupby(cat_col)[first_num].mean()\n",
    "    x = np.arange(len(means))\n",
    "    plt.bar(x, means.values)\n",
    "    plt.xticks(x, means.index.astype(str), rotation = 0)\n",
    "    plt.title(f\"Mean of '{first_num}' by {cat_col}\")\n",
    "    plt.xlabel(cat_col)\n",
    "    plt.ylabel(f\"Mean {first_num}\")\n",
    "else:\n",
    "    plt.hist(df[first_num].dropna(), bins = 20)\n",
    "    plt.title(f\"Histogram of '{first_num}'\")\n",
    "    plt.xlabel(first_num)\n",
    "    plt.ylabel(\"Frequency\")\n",
    "\n",
    "plt.tight_layout()\n",
    "plt.savefig(plot_path, dpi = 150)\n",
    "plt.show()\n",
    "\n",
    "print(f\"Saved plot to: {plot_path}\")"
   ]
  },
  {
   "cell_type": "markdown",
   "id": "e3a306cf-6834-46ee-8802-766bd9beac01",
   "metadata": {},
   "source": [
    "## 5. Reusable Functions\n",
    "\n",
    "Refer to section 3 in which I defined two utility functions: `get_summary_stats` and `pick_category_column`. "
   ]
  },
  {
   "cell_type": "code",
   "execution_count": null,
   "id": "c7887163-e4dd-4bfe-851d-033792aa26e0",
   "metadata": {},
   "outputs": [],
   "source": []
  }
 ],
 "metadata": {
  "kernelspec": {
   "display_name": "Python 3 (ipykernel)",
   "language": "python",
   "name": "python3"
  },
  "language_info": {
   "codemirror_mode": {
    "name": "ipython",
    "version": 3
   },
   "file_extension": ".py",
   "mimetype": "text/x-python",
   "name": "python",
   "nbconvert_exporter": "python",
   "pygments_lexer": "ipython3",
   "version": "3.10.9"
  }
 },
 "nbformat": 4,
 "nbformat_minor": 5
}
