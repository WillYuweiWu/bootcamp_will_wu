{
 "cells": [
  {
   "cell_type": "markdown",
   "id": "578ed65a",
   "metadata": {},
   "source": [
    "# Stage 15 - Orchestration & System Design\n",
    "Complete the sections below. Keep your answers concise and focused on orchestration readiness."
   ]
  },
  {
   "cell_type": "markdown",
   "id": "d2f6aa95",
   "metadata": {},
   "source": [
    "## 1) Project Task Decomposition\n",
    "List 4–8 tasks. Add more rows as needed."
   ]
  },
  {
   "cell_type": "code",
   "execution_count": 1,
   "id": "60e6c5f8",
   "metadata": {},
   "outputs": [
    {
     "data": {
      "text/html": [
       "<div>\n",
       "<style scoped>\n",
       "    .dataframe tbody tr th:only-of-type {\n",
       "        vertical-align: middle;\n",
       "    }\n",
       "\n",
       "    .dataframe tbody tr th {\n",
       "        vertical-align: top;\n",
       "    }\n",
       "\n",
       "    .dataframe thead th {\n",
       "        text-align: right;\n",
       "    }\n",
       "</style>\n",
       "<table border=\"1\" class=\"dataframe\">\n",
       "  <thead>\n",
       "    <tr style=\"text-align: right;\">\n",
       "      <th></th>\n",
       "      <th>task</th>\n",
       "      <th>inputs</th>\n",
       "      <th>outputs</th>\n",
       "      <th>idempotent</th>\n",
       "    </tr>\n",
       "  </thead>\n",
       "  <tbody>\n",
       "    <tr>\n",
       "      <th>0</th>\n",
       "      <td>ingest</td>\n",
       "      <td>../data/raw.csv</td>\n",
       "      <td>raw.csv</td>\n",
       "      <td>True</td>\n",
       "    </tr>\n",
       "    <tr>\n",
       "      <th>1</th>\n",
       "      <td>clean</td>\n",
       "      <td>raw.csv</td>\n",
       "      <td>clean.csv</td>\n",
       "      <td>True</td>\n",
       "    </tr>\n",
       "    <tr>\n",
       "      <th>2</th>\n",
       "      <td>train</td>\n",
       "      <td>clean.csv</td>\n",
       "      <td>trained.pkl</td>\n",
       "      <td>True</td>\n",
       "    </tr>\n",
       "    <tr>\n",
       "      <th>3</th>\n",
       "      <td>save</td>\n",
       "      <td>trained.pkl</td>\n",
       "      <td>flask_api_running.txt</td>\n",
       "      <td>True</td>\n",
       "    </tr>\n",
       "    <tr>\n",
       "      <th>4</th>\n",
       "      <td>report</td>\n",
       "      <td>trained.pkl, clean.csv</td>\n",
       "      <td>report.md</td>\n",
       "      <td>True</td>\n",
       "    </tr>\n",
       "  </tbody>\n",
       "</table>\n",
       "</div>"
      ],
      "text/plain": [
       "     task                  inputs                outputs  idempotent\n",
       "0  ingest         ../data/raw.csv                raw.csv        True\n",
       "1   clean                 raw.csv              clean.csv        True\n",
       "2   train               clean.csv            trained.pkl        True\n",
       "3    save             trained.pkl  flask_api_running.txt        True\n",
       "4  report  trained.pkl, clean.csv              report.md        True"
      ]
     },
     "execution_count": 1,
     "metadata": {},
     "output_type": "execute_result"
    }
   ],
   "source": [
    "from pathlib import Path\n",
    "import pandas as pd\n",
    "tasks = pd.DataFrame({\n",
    "    'task': [\n",
    "        'ingest', \n",
    "        'clean', \n",
    "        'train',\n",
    "        'save', \n",
    "        'report'\n",
    "    ],\n",
    "    'inputs': [\n",
    "        '../data/raw.csv', \n",
    "        'raw.csv', \n",
    "        'clean.csv', \n",
    "        'trained.pkl', \n",
    "        'trained.pkl, clean.csv'\n",
    "    ],\n",
    "    'outputs': [\n",
    "        'raw.csv', \n",
    "        'clean.csv', \n",
    "        'trained.pkl', \n",
    "        'flask_api_running.txt', \n",
    "        'report.md'\n",
    "    ],\n",
    "    'idempotent': [True, True, True, True, True]\n",
    "})\n",
    "tasks"
   ]
  },
  {
   "cell_type": "markdown",
   "id": "1d4baf77",
   "metadata": {},
   "source": [
    "## 2) Dependencies (DAG)\n",
    "Describe dependencies and paste a small diagram if you have one."
   ]
  },
  {
   "cell_type": "code",
   "execution_count": 2,
   "id": "9b0b955e",
   "metadata": {},
   "outputs": [
    {
     "data": {
      "text/plain": [
       "{'ingest': [],\n",
       " 'clean': ['ingest'],\n",
       " 'train': ['clean'],\n",
       " 'save': ['train'],\n",
       " 'report': ['clean', 'save']}"
      ]
     },
     "execution_count": 2,
     "metadata": {},
     "output_type": "execute_result"
    }
   ],
   "source": [
    "dag = {\n",
    "    'ingest': [],\n",
    "    'clean': ['ingest'],\n",
    "    'train': ['clean'],\n",
    "    'save': ['train'], \n",
    "    'report': ['clean', 'save']\n",
    "}\n",
    "dag"
   ]
  },
  {
   "cell_type": "code",
   "execution_count": 8,
   "id": "7408af9f-e902-4a76-b63e-503c63d3e82a",
   "metadata": {},
   "outputs": [
    {
     "data": {
      "text/plain": [
       "'DAG.png'"
      ]
     },
     "execution_count": 8,
     "metadata": {},
     "output_type": "execute_result"
    },
    {
     "data": {
      "image/png": "[encoded data removed]",
      "text/plain": [
       "<Figure size 800x500 with 1 Axes>"
      ]
     },
     "metadata": {},
     "output_type": "display_data"
    }
   ],
   "source": [
    "import matplotlib.pyplot as plt\n",
    "\n",
    "fig, ax = plt.subplots(figsize=(8, 5))\n",
    "\n",
    "positions = {\n",
    "    \"ingest\": (0.1, 0.6),\n",
    "    \"clean\": (0.35, 0.6),\n",
    "    \"train\": (0.6, 0.6),\n",
    "    \"save\":  (0.85, 0.6),\n",
    "    \"report\":(0.6, 0.2),\n",
    "}\n",
    "\n",
    "for name, (x, y) in positions.items():\n",
    "    ax.text(x, y, name, ha=\"center\", va=\"center\",\n",
    "            bbox=dict(boxstyle=\"round,pad=0.4\", fc=\"w\", ec=\"k\"))\n",
    "\n",
    "def arrow(frm, to):\n",
    "    x1, y1 = positions[frm]\n",
    "    x2, y2 = positions[to]\n",
    "    ax.annotate(\"\", xy=(x2-0.03, y2), xytext=(x1+0.03, y1),\n",
    "                arrowprops=dict(arrowstyle=\"->\", lw=1.5))\n",
    "\n",
    "arrow(\"ingest\", \"clean\")\n",
    "arrow(\"clean\", \"train\")\n",
    "arrow(\"train\", \"save\")\n",
    "arrow(\"clean\", \"report\")\n",
    "arrow(\"save\", \"report\")\n",
    "\n",
    "ax.set_xlim(0, 1)\n",
    "ax.set_ylim(0, 1)\n",
    "ax.axis(\"off\")\n",
    "\n",
    "out_path = \"DAG.png\"\n",
    "plt.savefig(out_path, bbox_inches=\"tight\")\n",
    "out_path"
   ]
  },
  {
   "cell_type": "markdown",
   "id": "1b2d38dd",
   "metadata": {},
   "source": [
    "## 3) Logging & Checkpoints Plan\n",
    "Specify what you will log and where you will checkpoint for each task."
   ]
  },
  {
   "cell_type": "code",
   "execution_count": 9,
   "id": "a26eb0b4",
   "metadata": {},
   "outputs": [
    {
     "data": {
      "text/html": [
       "<div>\n",
       "<style scoped>\n",
       "    .dataframe tbody tr th:only-of-type {\n",
       "        vertical-align: middle;\n",
       "    }\n",
       "\n",
       "    .dataframe tbody tr th {\n",
       "        vertical-align: top;\n",
       "    }\n",
       "\n",
       "    .dataframe thead th {\n",
       "        text-align: right;\n",
       "    }\n",
       "</style>\n",
       "<table border=\"1\" class=\"dataframe\">\n",
       "  <thead>\n",
       "    <tr style=\"text-align: right;\">\n",
       "      <th></th>\n",
       "      <th>task</th>\n",
       "      <th>log_messages</th>\n",
       "      <th>checkpoint_artifact</th>\n",
       "    </tr>\n",
       "  </thead>\n",
       "  <tbody>\n",
       "    <tr>\n",
       "      <th>0</th>\n",
       "      <td>ingest</td>\n",
       "      <td>start/end, rows, source URI</td>\n",
       "      <td>prices_raw.csv</td>\n",
       "    </tr>\n",
       "    <tr>\n",
       "      <th>1</th>\n",
       "      <td>clean</td>\n",
       "      <td>start/end, rows in/out</td>\n",
       "      <td>prices_clean.csv</td>\n",
       "    </tr>\n",
       "    <tr>\n",
       "      <th>2</th>\n",
       "      <td>train</td>\n",
       "      <td>params, metrics</td>\n",
       "      <td>trained_model.pkl</td>\n",
       "    </tr>\n",
       "    <tr>\n",
       "      <th>3</th>\n",
       "      <td>save</td>\n",
       "      <td>artifact path</td>\n",
       "      <td>flask_api_running.txt</td>\n",
       "    </tr>\n",
       "    <tr>\n",
       "      <th>4</th>\n",
       "      <td>report</td>\n",
       "      <td>generate report</td>\n",
       "      <td>report.md</td>\n",
       "    </tr>\n",
       "  </tbody>\n",
       "</table>\n",
       "</div>"
      ],
      "text/plain": [
       "     task                 log_messages    checkpoint_artifact\n",
       "0  ingest  start/end, rows, source URI         prices_raw.csv\n",
       "1   clean       start/end, rows in/out       prices_clean.csv\n",
       "2   train              params, metrics      trained_model.pkl\n",
       "3    save                artifact path  flask_api_running.txt\n",
       "4  report              generate report              report.md"
      ]
     },
     "execution_count": 9,
     "metadata": {},
     "output_type": "execute_result"
    }
   ],
   "source": [
    "logging_plan = pd.DataFrame({\n",
    "    'task': ['ingest', 'clean', 'train', 'save', 'report'],\n",
    "    'log_messages': [\n",
    "        'start/end, rows, source URI',\n",
    "        'start/end, rows in/out',\n",
    "        'params, metrics',\n",
    "        'artifact path', \n",
    "        'generate report'\n",
    "    ],\n",
    "    'checkpoint_artifact': [\n",
    "        'prices_raw.csv',\n",
    "        'prices_clean.csv',\n",
    "        'trained_model.pkl',\n",
    "        'flask_api_running.txt', \n",
    "        'report.md'\n",
    "    ]\n",
    "})\n",
    "logging_plan"
   ]
  },
  {
   "cell_type": "markdown",
   "id": "8f7312b8",
   "metadata": {},
   "source": [
    "## 4) Right-Sizing Automation\n",
    "Which parts will you automate now? Which stay manual? Why?"
   ]
  },
  {
   "cell_type": "markdown",
   "id": "9a353b90",
   "metadata": {},
   "source": [
    "I will automate on repetitive tasks such as data munging, feature computation, model training, and deployment. \n",
    "\n",
    "Manual work is for tasks that requires human decision, interpretation. Manual tasks ensurs that automation could improve efficiency without replacing critical human decision-making."
   ]
  },
  {
   "cell_type": "markdown",
   "id": "0e21f453",
   "metadata": {},
   "source": [
    "## 5) (Stretch) Refactor One Task into a Function + CLI\n",
    "Use the templates below."
   ]
  },
  {
   "cell_type": "code",
   "execution_count": 10,
   "id": "f4149d41",
   "metadata": {},
   "outputs": [
    {
     "name": "stdout",
     "output_type": "stream",
     "text": [
      "INFO:root:[my_task] start\n",
      "INFO:root:[my_task] wrote data/out.json\n"
     ]
    }
   ],
   "source": [
    "import argparse, json, logging, sys\n",
    "from datetime import datetime\n",
    "\n",
    "def my_task(input_path: str, output_path: str) -> None:\n",
    "    '''Example task template: read → transform → write JSON.'''\n",
    "    logging.info('[my_task] start')\n",
    "    # TODO: implement your logic\n",
    "    result = {'run_at': datetime.utcnow().isoformat(), 'note': 'replace with real output'}\n",
    "    Path(output_path).parent.mkdir(parents=True, exist_ok=True)\n",
    "    Path(output_path).write_text(json.dumps(result, indent=2))\n",
    "    logging.info('[my_task] wrote %s', output_path)\n",
    "\n",
    "def main(argv=None):\n",
    "    parser = argparse.ArgumentParser(description='Homework task wrapper')\n",
    "    parser.add_argument('--input', required=True)\n",
    "    parser.add_argument('--output', required=True)\n",
    "    args = parser.parse_args(argv)\n",
    "    logging.basicConfig(level=logging.INFO, handlers=[logging.StreamHandler(sys.stdout)])\n",
    "    my_task(args.input, args.output)\n",
    "\n",
    "if __name__ == '__main__':\n",
    "    # Example simulated CLI in notebook:\n",
    "    main(['--input', 'data/in.ext', '--output', 'data/out.json'])"
   ]
  },
  {
   "cell_type": "markdown",
   "id": "fc5c1d23",
   "metadata": {},
   "source": [
    "### Optional: Simple Retry Wrapper (fill in)\n",
    "Add a small retry with linear backoff to harden a task."
   ]
  },
  {
   "cell_type": "code",
   "execution_count": 11,
   "id": "0a74251d",
   "metadata": {},
   "outputs": [],
   "source": [
    "import time\n",
    "def retry(n_tries=3, delay=0.2):\n",
    "    def wrapper(fn, *args, **kwargs):\n",
    "        # TODO: implement try/except loop with sleep backoff\n",
    "        return fn(*args, **kwargs)\n",
    "    return wrapper"
   ]
  },
  {
   "cell_type": "code",
   "execution_count": null,
   "id": "92d18d3d-5e3a-40d0-a77d-a13fe6445ad1",
   "metadata": {},
   "outputs": [],
   "source": []
  }
 ],
 "metadata": {
  "kernelspec": {
   "display_name": "Python 3 (ipykernel)",
   "language": "python",
   "name": "python3"
  },
  "language_info": {
   "codemirror_mode": {
    "name": "ipython",
    "version": 3
   },
   "file_extension": ".py",
   "mimetype": "text/x-python",
   "name": "python",
   "nbconvert_exporter": "python",
   "pygments_lexer": "ipython3",
   "version": "3.10.9"
  }
 },
 "nbformat": 4,
 "nbformat_minor": 5
}
